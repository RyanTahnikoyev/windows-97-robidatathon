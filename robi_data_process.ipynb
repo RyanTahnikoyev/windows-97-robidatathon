{
  "nbformat": 4,
  "nbformat_minor": 0,
  "metadata": {
    "colab": {
      "name": "robi_data_process.ipynb",
      "provenance": [],
      "collapsed_sections": [],
      "include_colab_link": true
    },
    "kernelspec": {
      "name": "python3",
      "display_name": "Python 3"
    },
    "language_info": {
      "name": "python"
    }
  },
  "cells": [
    {
      "cell_type": "markdown",
      "metadata": {
        "id": "view-in-github",
        "colab_type": "text"
      },
      "source": [
        "<a href=\"https://colab.research.google.com/github/RyanTahnikoyev/windows-97-robidatathon/blob/main/robi_data_process.ipynb\" target=\"_parent\"><img src=\"https://colab.research.google.com/assets/colab-badge.svg\" alt=\"Open In Colab\"/></a>"
      ]
    },
    {
      "cell_type": "code",
      "execution_count": null,
      "metadata": {
        "id": "vlxWMQNVfFQv"
      },
      "outputs": [],
      "source": [
        "import tensorflow as tf\n",
        "import numpy as np\n",
        "import glob\n",
        "import math\n",
        "from tensorflow.keras.applications import resnet50\n",
        "from tensorflow.keras.layers import Dense, Conv2D, Flatten, Input, MaxPooling2D\n",
        "from tensorflow.keras import Model\n",
        "from tensorflow.keras import layers\n",
        "import pandas as pd "
      ]
    },
    {
      "cell_type": "code",
      "source": [
        "from google.colab import drive \n",
        "drive.mount('/content/drive', force_remount=True)"
      ],
      "metadata": {
        "id": "csgH9wIyfQbb"
      },
      "execution_count": null,
      "outputs": []
    },
    {
      "cell_type": "code",
      "source": [
        "train_data = pd.read_csv(\"/content/drive/MyDrive/robi-datathon-2-pre-assessment/train.csv\")\n",
        "# check the raw data\n",
        "print(\"Size of the train dataset (train_data, col): \", train_data.shape)\n",
        "\n",
        "test_data = pd.read_csv(\"/content/drive/MyDrive/robi-datathon-2-pre-assessment/test.csv\")\n",
        "# check the raw data\n",
        "print(\"Size of the test dataset (test_data, col): \", test_data.shape)"
      ],
      "metadata": {
        "id": "PWQObkqkf4Hg"
      },
      "execution_count": null,
      "outputs": []
    }
  ]
}