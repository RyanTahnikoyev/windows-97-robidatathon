{
  "nbformat": 4,
  "nbformat_minor": 0,
  "metadata": {
    "colab": {
      "name": "robi_data_process.ipynb",
      "provenance": [],
      "collapsed_sections": [],
      "include_colab_link": true
    },
    "kernelspec": {
      "name": "python3",
      "display_name": "Python 3"
    },
    "language_info": {
      "name": "python"
    },
    "accelerator": "GPU"
  },
  "cells": [
    {
      "cell_type": "markdown",
      "metadata": {
        "id": "view-in-github",
        "colab_type": "text"
      },
      "source": [
        "<a href=\"https://colab.research.google.com/github/RyanTahnikoyev/windows-97-robidatathon/blob/main/robi_data_process.ipynb\" target=\"_parent\"><img src=\"https://colab.research.google.com/assets/colab-badge.svg\" alt=\"Open In Colab\"/></a>"
      ]
    },
    {
      "cell_type": "code",
      "execution_count": 4,
      "metadata": {
        "id": "vlxWMQNVfFQv"
      },
      "outputs": [],
      "source": [
        "import tensorflow as tf\n",
        "import numpy as np\n",
        "import glob\n",
        "import math\n",
        "from tensorflow.keras.applications import resnet50\n",
        "from tensorflow.keras.layers import Dense, Conv2D, Flatten, Input, MaxPooling2D\n",
        "from tensorflow.keras import Model\n",
        "from tensorflow.keras import layers\n",
        "import pandas as pd "
      ]
    },
    {
      "cell_type": "code",
      "source": [
        ""
      ],
      "metadata": {
        "id": "chZ4I-ZsZZYg"
      },
      "execution_count": 4,
      "outputs": []
    },
    {
      "cell_type": "code",
      "source": [
        "train_df=pd.read_csv(\"/content/drive/MyDrive/robi-datathon-2-pre-assessment/train.csv\")\n",
        "test_df=pd.read_csv(\"/content/drive/MyDrive/robi-datathon-2-pre-assessment/test.csv\")\n",
        "\n",
        "print(train_df[\"s52\"].value_counts())\n",
        "print(test_df[\"s52\"].value_counts())\n",
        "train_df[\"s52\"][train_df[\"s52\"]==\"o\"]=\"0\"\n",
        "train_df[\"s52\"][train_df[\"s52\"]==\"l\"]=\"1\"\n",
        "test_df[\"s52\"][test_df[\"s52\"]==\"o\"]=\"0\"\n",
        "test_df[\"s52\"][test_df[\"s52\"]==\"l\"]=\"1\"\n",
        "\n",
        "print(train_df[\"s52\"].value_counts())"
      ],
      "metadata": {
        "id": "csgH9wIyfQbb",
        "colab": {
          "base_uri": "https://localhost:8080/"
        },
        "outputId": "6650b4e5-5abe-40be-95ba-484dc4d2e050"
      },
      "execution_count": 5,
      "outputs": [
        {
          "output_type": "stream",
          "name": "stdout",
          "text": [
            "1    20524\n",
            "l     6508\n",
            "0     1094\n",
            "o      196\n",
            "Name: s52, dtype: int64\n",
            "1    45569\n",
            "l    36056\n",
            "0     2811\n",
            "o      629\n",
            "Name: s52, dtype: int64\n",
            "1    27032\n",
            "0     1290\n",
            "Name: s52, dtype: int64\n"
          ]
        },
        {
          "output_type": "stream",
          "name": "stderr",
          "text": [
            "/usr/local/lib/python3.7/dist-packages/ipykernel_launcher.py:6: SettingWithCopyWarning: \n",
            "A value is trying to be set on a copy of a slice from a DataFrame\n",
            "\n",
            "See the caveats in the documentation: https://pandas.pydata.org/pandas-docs/stable/user_guide/indexing.html#returning-a-view-versus-a-copy\n",
            "  \n",
            "/usr/local/lib/python3.7/dist-packages/ipykernel_launcher.py:7: SettingWithCopyWarning: \n",
            "A value is trying to be set on a copy of a slice from a DataFrame\n",
            "\n",
            "See the caveats in the documentation: https://pandas.pydata.org/pandas-docs/stable/user_guide/indexing.html#returning-a-view-versus-a-copy\n",
            "  import sys\n",
            "/usr/local/lib/python3.7/dist-packages/ipykernel_launcher.py:8: SettingWithCopyWarning: \n",
            "A value is trying to be set on a copy of a slice from a DataFrame\n",
            "\n",
            "See the caveats in the documentation: https://pandas.pydata.org/pandas-docs/stable/user_guide/indexing.html#returning-a-view-versus-a-copy\n",
            "  \n",
            "/usr/local/lib/python3.7/dist-packages/ipykernel_launcher.py:9: SettingWithCopyWarning: \n",
            "A value is trying to be set on a copy of a slice from a DataFrame\n",
            "\n",
            "See the caveats in the documentation: https://pandas.pydata.org/pandas-docs/stable/user_guide/indexing.html#returning-a-view-versus-a-copy\n",
            "  if __name__ == '__main__':\n"
          ]
        }
      ]
    },
    {
      "cell_type": "code",
      "source": [
        "for i in train_df.columns:\n",
        "  print(train_df[i].value_counts())"
      ],
      "metadata": {
        "id": "ajB4ub1Pfdi8",
        "colab": {
          "base_uri": "https://localhost:8080/"
        },
        "outputId": "0c2feec1-9341-479a-a5e1-7bcd6203adaf"
      },
      "execution_count": 6,
      "outputs": [
        {
          "output_type": "stream",
          "name": "stdout",
          "text": [
            "b'gAAAAABinOicS09vrmgh0_JyEHihI13ptO0rCyHP7l76be71PWA2ReUc4HUQn16Fya1z8_VStNnFGaXJF262CgsuMPzOaknSeg=='    1\n",
            "b'gAAAAABinOiekMHaC6-03yzvmLFVBfqljUIev5XFrbbJarEbo-mshNj5pWAXfTdmvEMQtb0WjtlboHt2rFBrCoipjAn9sOOZEg=='    1\n",
            "b'gAAAAABinOiYtx-HpOZBYTtT-FndzIj6Nt2HTKu7UKAs-Dfxd8mxrvwxRNGE47Si_-kc5TiwVkTf59u94658aAU7gHD9-TGBMQ=='    1\n",
            "b'gAAAAABinOia961WRLsDIRdEcGr5_RSKfmTjQ2ME5HBpIUtBdjJUeCTgVI6uzDIdnDRB58VBUvirHgdTdjgECltfpZ2XequVmA=='    1\n",
            "b'gAAAAABinOibb7LcG8T4rQSnzf-b2GjK5D0F1ZLe6VMES-x90Pi5-Emk_dbp7xYXuepQpmVa_rhfEsemOUZUGn9_30mt-Vr8iQ=='    1\n",
            "                                                                                                          ..\n",
            "b'gAAAAABinOiawRN0qVxqLZn-_t1Qb87hktzzZnsBU00aUINCq1S48jnwhwxdn5XNd6mR189SFIILrWFbz0_LyBAvIlgUCImvqw=='    1\n",
            "b'gAAAAABinOiZPy87pVtsRScbROxYGDhSan3Pp9q53S8zvzjZWJIhBd_PGqGRWUhxCwbTpmkda93liZMesGSchyhojqcCkJUD2w=='    1\n",
            "b'gAAAAABinOib5XtfV1CgG7sJ3lqWVyVEX63543B09-SgMzYFlBkQuLmoEYkpfdNT1_v2JR0feyWOaSlNB_HLd2WSNncMF_Pu8Q=='    1\n",
            "b'gAAAAABinOiZOg76iQugWQ0dURCMJr7Nx3cTy_md3x5d_mu6pyHpZxvB7YRGuIJYS4HTORYG4Er_fc44aKaCmcxcMvAl3EsFUA=='    1\n",
            "b'gAAAAABinOiZ3mCQAtoJFXj-Ymjhi9FbbZ_Ypi5gDoAEYe1Cx66GhkhZ5UIJNLcPlgrRyfpabvIwD5ok1GxipWfkujjwXyMMBw=='    1\n",
            "Name: id, Length: 28322, dtype: int64\n",
            "M    20396\n",
            "F     7926\n",
            "Name: gender, dtype: int64\n",
            "Y    25112\n",
            "N     3210\n",
            "Name: s11, dtype: int64\n",
            "Y    24227\n",
            "N     4095\n",
            "Name: s12, dtype: int64\n",
            "1    27844\n",
            "0      478\n",
            "Name: s13, dtype: int64\n",
            "D    21028\n",
            "B     6446\n",
            "C      540\n",
            "A      308\n",
            "Name: s16, dtype: int64\n",
            "D    24013\n",
            "B     2175\n",
            "C     1985\n",
            "A      149\n",
            "Name: s17, dtype: int64\n",
            "B    25010\n",
            "D     1612\n",
            "C     1607\n",
            "A       93\n",
            "Name: s18, dtype: int64\n",
            "0    16049\n",
            "1    12273\n",
            "Name: s48, dtype: int64\n",
            "1    27032\n",
            "0     1290\n",
            "Name: s52, dtype: int64\n",
            "      25752\n",
            "       2570\n",
            "Name: s53, dtype: int64\n",
            "2b    316\n",
            "b2    314\n",
            "a2    314\n",
            "22    310\n",
            "ab    297\n",
            "2a    291\n",
            "ba    287\n",
            "bb    260\n",
            "aa    239\n",
            "Name: s54, dtype: int64\n",
            "2k    405\n",
            "2K    400\n",
            "k2    364\n",
            "K2    359\n",
            "22    345\n",
            "Kk    345\n",
            "KK    343\n",
            "kk    330\n",
            "kK    315\n",
            "Name: s55, dtype: int64\n",
            "Series([], Name: s56, dtype: int64)\n",
            "Series([], Name: s57, dtype: int64)\n",
            "B    25760\n",
            "A     2562\n",
            "Name: s58, dtype: int64\n",
            "Series([], Name: s59, dtype: int64)\n",
            "x     21028\n",
            "~1     6446\n",
            "C`      540\n",
            "0       308\n",
            "Name: s69, dtype: int64\n",
            "op: D    24013\n",
            "op: B     2175\n",
            "op: C     1985\n",
            "op: A      149\n",
            "Name: s70, dtype: int64\n",
            "b    25010\n",
            "d     1612\n",
            "c     1607\n",
            "a       93\n",
            "Name: s71, dtype: int64\n",
            "2.943602     2\n",
            "15.181258    1\n",
            "12.436538    1\n",
            "17.778950    1\n",
            "6.446166     1\n",
            "            ..\n",
            "6.549431     1\n",
            "10.419892    1\n",
            "16.313220    1\n",
            "7.502172     1\n",
            "7.058107     1\n",
            "Name: n1, Length: 28321, dtype: int64\n",
            "0.517754    2\n",
            "1.197314    2\n",
            "2.772188    1\n",
            "1.523550    1\n",
            "2.461341    1\n",
            "           ..\n",
            "1.088225    1\n",
            "1.996014    1\n",
            "2.130200    1\n",
            "1.149892    1\n",
            "1.023172    1\n",
            "Name: n2, Length: 28320, dtype: int64\n",
            "3    9681\n",
            "6    6802\n",
            "7    3186\n",
            "8    2652\n",
            "2    2433\n",
            "4    1178\n",
            "9    1159\n",
            "1     733\n",
            "5     395\n",
            "0     103\n",
            "Name: n3, dtype: int64\n",
            "6.033573    2\n",
            "2.318385    1\n",
            "2.234690    1\n",
            "2.815999    1\n",
            "2.096557    1\n",
            "           ..\n",
            "8.000033    1\n",
            "6.100405    1\n",
            "6.806441    1\n",
            "8.090732    1\n",
            "5.942025    1\n",
            "Name: n4, Length: 28321, dtype: int64\n",
            "-32.575722    2\n",
            "-32.393333    2\n",
            "-32.576721    2\n",
            "-32.643876    2\n",
            "-32.394758    2\n",
            "             ..\n",
            "-32.396476    1\n",
            "-32.574532    1\n",
            "-32.933614    1\n",
            "-32.348920    1\n",
            "-32.848897    1\n",
            "Name: n5, Length: 28290, dtype: int64\n",
            "0.029417    2\n",
            "0.017311    2\n",
            "0.017657    2\n",
            "0.015602    2\n",
            "0.018414    2\n",
            "           ..\n",
            "0.021696    1\n",
            "0.013939    1\n",
            "0.018134    1\n",
            "0.017047    1\n",
            "0.015928    1\n",
            "Name: n6, Length: 28299, dtype: int64\n",
            "-9.050681    2\n",
            "-9.144623    2\n",
            "-9.126056    1\n",
            "-9.300590    1\n",
            "-9.272447    1\n",
            "            ..\n",
            "-9.277263    1\n",
            "-8.985370    1\n",
            "-8.865893    1\n",
            "-9.058843    1\n",
            "-9.280950    1\n",
            "Name: n7, Length: 28320, dtype: int64\n",
            "1.472391    2\n",
            "1.732291    1\n",
            "1.762606    1\n",
            "2.158777    1\n",
            "1.535193    1\n",
            "           ..\n",
            "1.502255    1\n",
            "1.528658    1\n",
            "1.626512    1\n",
            "1.521314    1\n",
            "1.490478    1\n",
            "Name: n8, Length: 28321, dtype: int64\n",
            "3.653427    2\n",
            "3.698504    1\n",
            "6.929351    1\n",
            "3.885346    1\n",
            "3.232266    1\n",
            "           ..\n",
            "3.894423    1\n",
            "6.200716    1\n",
            "7.188201    1\n",
            "3.658280    1\n",
            "3.569598    1\n",
            "Name: n9, Length: 28321, dtype: int64\n",
            "6.106579     2\n",
            "4.814525     2\n",
            "11.431255    2\n",
            "5.704187     1\n",
            "4.709167     1\n",
            "            ..\n",
            "11.200575    1\n",
            "7.764208     1\n",
            "4.721390     1\n",
            "11.751226    1\n",
            "4.584967     1\n",
            "Name: n10, Length: 28319, dtype: int64\n",
            "1.549197    2\n",
            "1.544484    1\n",
            "1.797979    1\n",
            "1.825730    1\n",
            "1.870762    1\n",
            "           ..\n",
            "1.710158    1\n",
            "1.623187    1\n",
            "1.618368    1\n",
            "1.694899    1\n",
            "1.777995    1\n",
            "Name: n11, Length: 28321, dtype: int64\n",
            "0    28039\n",
            "1      283\n",
            "Name: n12, dtype: int64\n",
            "0    25787\n",
            "1     2535\n",
            "Name: n13, dtype: int64\n",
            "0.631220    1\n",
            "0.522364    1\n",
            "0.338893    1\n",
            "0.792103    1\n",
            "0.459361    1\n",
            "           ..\n",
            "0.839650    1\n",
            "0.678318    1\n",
            "0.061289    1\n",
            "0.589074    1\n",
            "0.435079    1\n",
            "Name: n14, Length: 28322, dtype: int64\n",
            "0    4145\n",
            "5    4100\n",
            "6    4049\n",
            "4    4021\n",
            "2    4013\n",
            "3    4002\n",
            "1    3992\n",
            "Name: n15, dtype: int64\n",
            "0    23562\n",
            "1     4760\n",
            "Name: label, dtype: int64\n"
          ]
        }
      ]
    },
    {
      "cell_type": "markdown",
      "source": [
        "#Preprocessing and Encoding\n",
        "##Mispelled Columns:\n",
        "##s52, s55\n",
        "##Empty Columns:\n",
        "##s56,s57,s59\n",
        "##Oridinal Data Columns:\n",
        "##n3,n15"
      ],
      "metadata": {
        "id": "TWBuECd4f67-"
      }
    },
    {
      "cell_type": "code",
      "source": [
        "missing_sum_row=np.sum(pd.isna(train_df),axis=1)\n",
        "\n",
        "missing_sum_col=np.sum(pd.isna(train_df),axis=0)"
      ],
      "metadata": {
        "id": "iRoJjQsZmCFg"
      },
      "execution_count": 7,
      "outputs": []
    },
    {
      "cell_type": "code",
      "source": [
        "missing_sum_row.value_counts()"
      ],
      "metadata": {
        "colab": {
          "base_uri": "https://localhost:8080/"
        },
        "id": "nwlRY8FbuKOe",
        "outputId": "6c6a7180-f55c-42b1-e27a-165d12ec33ec"
      },
      "execution_count": 8,
      "outputs": [
        {
          "output_type": "execute_result",
          "data": {
            "text/plain": [
              "5    22770\n",
              "4     5270\n",
              "3      282\n",
              "dtype: int64"
            ]
          },
          "metadata": {},
          "execution_count": 8
        }
      ]
    },
    {
      "cell_type": "code",
      "source": [
        "missing_col_map={i:j for i,j in zip(list(train_df.columns),missing_sum_col)}"
      ],
      "metadata": {
        "id": "1Bg8d76guM6i"
      },
      "execution_count": 9,
      "outputs": []
    },
    {
      "cell_type": "code",
      "source": [
        "len(missing_col_map)"
      ],
      "metadata": {
        "colab": {
          "base_uri": "https://localhost:8080/"
        },
        "id": "UXhqMQy6uhxE",
        "outputId": "ede4b399-36af-48a2-b3cb-3e4f99d97f5a"
      },
      "execution_count": 10,
      "outputs": [
        {
          "output_type": "execute_result",
          "data": {
            "text/plain": [
              "36"
            ]
          },
          "metadata": {},
          "execution_count": 10
        }
      ]
    },
    {
      "cell_type": "code",
      "source": [
        "for i,j in missing_col_map.items():\n",
        "  if j>19000:\n",
        "    train_df.drop(i,inplace=True,axis=1)"
      ],
      "metadata": {
        "id": "Me0HcLhfuoZk"
      },
      "execution_count": 11,
      "outputs": []
    },
    {
      "cell_type": "code",
      "source": [
        "train_df.drop(\"id\",inplace=True,axis=1)"
      ],
      "metadata": {
        "id": "47dCqIq0JqeV"
      },
      "execution_count": 12,
      "outputs": []
    },
    {
      "cell_type": "code",
      "source": [
        ""
      ],
      "metadata": {
        "id": "n0rQlxS9IsUd"
      },
      "execution_count": 12,
      "outputs": []
    },
    {
      "cell_type": "markdown",
      "source": [
        "#Ultimate labels for dataframe:\n",
        "#['gender', 's11', 's12', 's13', 's16', 's17', 's18', 's48', 's52', 's53','s58', 's69', 's70', 's71', 'n1', 'n2', 'n3', 'n4', 'n5', 'n6', 'n7','n8', 'n9', 'n10', 'n11', 'n12', 'n13', 'n14', 'n15', 'label']"
      ],
      "metadata": {
        "id": "L7uLAM4aR1Od"
      }
    },
    {
      "cell_type": "code",
      "source": [
        "X_train_full=train_df.copy()"
      ],
      "metadata": {
        "id": "D6o4C8sNKWYW"
      },
      "execution_count": 13,
      "outputs": []
    },
    {
      "cell_type": "code",
      "source": [
        "binary_cols= [cname for cname in X_train_full.columns if\n",
        "              X_train_full[cname].nunique()==2 and cname!=X_train_full.columns[-1]]\n",
        "\n",
        "# \"Cardinality\" means the number of unique values in a column\n",
        "# Select categorical columns with relatively low cardinality (convenient but arbitrary)\n",
        "categorical_cols = [cname for cname in X_train_full.columns if\n",
        "                    X_train_full[cname].nunique() < 10 and \n",
        "                    X_train_full[cname].dtype == \"object\" and cname \n",
        "                    not in binary_cols]\n",
        "categorical_cols.extend([\"n3\",\"n15\"])\n",
        "# Select numerical columns\n",
        "numerical_cols = [cname for cname in X_train_full.columns if \n",
        "                X_train_full[cname].dtype in ['int64', 'float64'] and cname not in [\"label\",\"n3\",\"n15\"]]"
      ],
      "metadata": {
        "id": "WVz6Bl6FuwR8"
      },
      "execution_count": 14,
      "outputs": []
    },
    {
      "cell_type": "code",
      "source": [
        ""
      ],
      "metadata": {
        "id": "z2ZM-ypDELh9"
      },
      "execution_count": 14,
      "outputs": []
    },
    {
      "cell_type": "code",
      "source": [
        "def prepare_dataset(df,binary_cols,categorical_cols,numerical_cols):\n",
        "  df=df.sample(frac=1)\n",
        "  binary_df=df[binary_cols].copy()\n",
        "  categorical_df=df[categorical_cols].copy()\n",
        "  from sklearn.preprocessing import LabelEncoder\n",
        "  for i in binary_df:\n",
        "      le=LabelEncoder()\n",
        "      binary_df[i]=le.fit_transform(binary_df[i])\n",
        "  numerical_df=df[numerical_cols].copy()\n",
        "  categorical_df=categorical_df.astype(\"O\")\n",
        "  categorical_df=pd.get_dummies(categorical_df)\n",
        "  siamese_input_x=pd.concat([binary_df,categorical_df,numerical_df],axis=1)\n",
        "  siamese_input_y=df[\"label\"]\n",
        "  return siamese_input_x,siamese_input_y\n"
      ],
      "metadata": {
        "id": "oEKoc5l-PTPk"
      },
      "execution_count": 15,
      "outputs": []
    },
    {
      "cell_type": "code",
      "source": [
        ""
      ],
      "metadata": {
        "id": "GpSoMTs00JSe"
      },
      "execution_count": 15,
      "outputs": []
    },
    {
      "cell_type": "markdown",
      "source": [
        "##Enconded Dataset"
      ],
      "metadata": {
        "id": "0p7TmBxR0Jtn"
      }
    },
    {
      "cell_type": "code",
      "source": [
        "x,y=prepare_dataset(train_df,binary_cols,categorical_cols,numerical_cols)"
      ],
      "metadata": {
        "id": "d3GvDhbjGXhP"
      },
      "execution_count": 16,
      "outputs": []
    },
    {
      "cell_type": "code",
      "source": [
        "import tensorflow as tf\n",
        "import numpy as np\n",
        "import cv2 \n",
        "import os\n",
        "import glob\n",
        "import math\n",
        "from tensorflow.keras.applications import resnet50\n",
        "from tensorflow.keras.layers import Dense, Conv2D, Flatten, Input, MaxPooling2D\n",
        "from tensorflow.keras import Model\n",
        "from tensorflow.keras import layers\n",
        "import pandas as pd "
      ],
      "metadata": {
        "id": "pgNNxyeBSRQQ"
      },
      "execution_count": 17,
      "outputs": []
    },
    {
      "cell_type": "markdown",
      "source": [
        "#Basic Dense Model"
      ],
      "metadata": {
        "id": "Ak9NFRrZ0Qum"
      }
    },
    {
      "cell_type": "code",
      "source": [
        ""
      ],
      "metadata": {
        "id": "jxlWpj0T0NnA"
      },
      "execution_count": 17,
      "outputs": []
    },
    {
      "cell_type": "code",
      "source": [
        "normalizer = tf.keras.layers.Normalization(axis=-1)\n",
        "normalizer.adapt(x)"
      ],
      "metadata": {
        "id": "TDUAFWzFldiO"
      },
      "execution_count": 18,
      "outputs": []
    },
    {
      "cell_type": "code",
      "source": [
        "dense1= Dense(128,activation='relu')\n",
        "dense2=Dense(256,activation=\"relu\")\n",
        "dense3=Dense(512,activation=\"relu\")\n",
        "dr2=layers.Dropout(0.5)\n",
        "dense3_1=Dense(512,activation=\"relu\")\n",
        "dense4=Dense(256,activation=\"relu\")\n",
        "dense5=Dense(128,activation=\"relu\")\n",
        "dr3=layers.Dropout(0.5)\n",
        "dense6=Dense(1024,activation=\"relu\")\n",
        "dense7=Dense(24,activation=\"relu\")\n",
        "dense8=Dense(1,activation=\"sigmoid\")\n",
        "dist=tf.keras.layers.Lambda(lambda x: tf.math.l2_normalize(x, axis=1))\n",
        "model=tf.keras.Sequential([normalizer,dense1,dense2,dense3,dr2,dense3_1,dense4,dense5,dr3,dense6,dense7,dense8])\n",
        "model.summary()"
      ],
      "metadata": {
        "colab": {
          "base_uri": "https://localhost:8080/"
        },
        "id": "MbDg6b3dSVH9",
        "outputId": "421ae454-c4ae-49ab-caf1-3594705335bc"
      },
      "execution_count": 19,
      "outputs": [
        {
          "output_type": "stream",
          "name": "stdout",
          "text": [
            "Model: \"sequential\"\n",
            "_________________________________________________________________\n",
            " Layer (type)                Output Shape              Param #   \n",
            "=================================================================\n",
            " normalization (Normalizatio  (None, 66)               133       \n",
            " n)                                                              \n",
            "                                                                 \n",
            " dense (Dense)               (None, 128)               8576      \n",
            "                                                                 \n",
            " dense_1 (Dense)             (None, 256)               33024     \n",
            "                                                                 \n",
            " dense_2 (Dense)             (None, 512)               131584    \n",
            "                                                                 \n",
            " dropout (Dropout)           (None, 512)               0         \n",
            "                                                                 \n",
            " dense_3 (Dense)             (None, 512)               262656    \n",
            "                                                                 \n",
            " dense_4 (Dense)             (None, 256)               131328    \n",
            "                                                                 \n",
            " dense_5 (Dense)             (None, 128)               32896     \n",
            "                                                                 \n",
            " dropout_1 (Dropout)         (None, 128)               0         \n",
            "                                                                 \n",
            " dense_6 (Dense)             (None, 1024)              132096    \n",
            "                                                                 \n",
            " dense_7 (Dense)             (None, 24)                24600     \n",
            "                                                                 \n",
            " dense_8 (Dense)             (None, 1)                 25        \n",
            "                                                                 \n",
            "=================================================================\n",
            "Total params: 756,918\n",
            "Trainable params: 756,785\n",
            "Non-trainable params: 133\n",
            "_________________________________________________________________\n"
          ]
        }
      ]
    },
    {
      "cell_type": "code",
      "source": [
        "from sklearn.model_selection import StratifiedKFold\n",
        "\n",
        "\n",
        "model.compile(\n",
        "    optimizer=tf.keras.optimizers.Adam(),\n",
        "    loss=tf.keras.losses.BinaryCrossentropy(),\n",
        "    metrics=[\"accuracy\"]\n",
        ")\n",
        "callback = tf.keras.callbacks.EarlyStopping(monitor='accuracy', patience=1)\n",
        "history_main=[]\n",
        "kf=StratifiedKFold(n_splits=7,shuffle=True)\n",
        "for i in range(1000):\n",
        "  split=kf.split(x,y=y)\n",
        "  print(i)\n",
        "  for trainidx,testidx in split:\n",
        "    print(\"train,test: \",str(len(trainidx)),str(len(testidx)))\n",
        "    train_data=(x.iloc[trainidx],y[trainidx])\n",
        "    test_data=(x.iloc[testidx],y[testidx])  \n",
        "    history = model.fit(x=train_data[0],y=train_data[1],epochs=5,callbacks=[callback],validation_data=test_data)\n",
        "  if history.history[\"val_accuracy\"][0]>=0.98 and history.history[\"accuracy\"][0]>=0.97:\n",
        "    break "
      ],
      "metadata": {
        "colab": {
          "base_uri": "https://localhost:8080/"
        },
        "id": "qNveLQqwOnaO",
        "outputId": "b8e7fc8c-abcc-4d5c-9ec7-3f56b2908f7c"
      },
      "execution_count": null,
      "outputs": [
        {
          "output_type": "stream",
          "name": "stdout",
          "text": [
            "0\n",
            "train,test:  24276 4046\n",
            "Epoch 1/5\n",
            "759/759 [==============================] - 4s 4ms/step - loss: 0.4530 - accuracy: 0.8319 - val_loss: 0.4520 - val_accuracy: 0.8324\n",
            "Epoch 2/5\n",
            "759/759 [==============================] - 3s 4ms/step - loss: 0.4530 - accuracy: 0.8319 - val_loss: 0.4520 - val_accuracy: 0.8324\n",
            "train,test:  24276 4046\n",
            "Epoch 1/5\n",
            "759/759 [==============================] - 3s 4ms/step - loss: 0.4504 - accuracy: 0.8335 - val_loss: 0.4681 - val_accuracy: 0.8223\n",
            "Epoch 2/5\n",
            "759/759 [==============================] - 3s 4ms/step - loss: 0.4503 - accuracy: 0.8335 - val_loss: 0.4684 - val_accuracy: 0.8223\n",
            "train,test:  24276 4046\n",
            "Epoch 1/5\n",
            "759/759 [==============================] - 3s 4ms/step - loss: 0.4528 - accuracy: 0.8319 - val_loss: 0.4529 - val_accuracy: 0.8319\n",
            "Epoch 2/5\n",
            "759/759 [==============================] - 3s 4ms/step - loss: 0.4529 - accuracy: 0.8319 - val_loss: 0.4528 - val_accuracy: 0.8319\n",
            "train,test:  24276 4046\n",
            "Epoch 1/5\n",
            "759/759 [==============================] - 3s 4ms/step - loss: 0.4540 - accuracy: 0.8312 - val_loss: 0.4461 - val_accuracy: 0.8361\n",
            "Epoch 2/5\n",
            "759/759 [==============================] - 3s 4ms/step - loss: 0.4540 - accuracy: 0.8312 - val_loss: 0.4462 - val_accuracy: 0.8361\n",
            "train,test:  24276 4046\n",
            "Epoch 1/5\n",
            "759/759 [==============================] - 3s 4ms/step - loss: 0.4528 - accuracy: 0.8320 - val_loss: 0.4533 - val_accuracy: 0.8317\n",
            "Epoch 2/5\n",
            "759/759 [==============================] - 3s 4ms/step - loss: 0.4529 - accuracy: 0.8320 - val_loss: 0.4532 - val_accuracy: 0.8317\n",
            "train,test:  24276 4046\n",
            "Epoch 1/5\n",
            "759/759 [==============================] - 3s 4ms/step - loss: 0.4529 - accuracy: 0.8319 - val_loss: 0.4528 - val_accuracy: 0.8319\n",
            "Epoch 2/5\n",
            "759/759 [==============================] - 3s 4ms/step - loss: 0.4529 - accuracy: 0.8319 - val_loss: 0.4529 - val_accuracy: 0.8319\n",
            "train,test:  24276 4046\n",
            "Epoch 1/5\n",
            "759/759 [==============================] - 3s 4ms/step - loss: 0.4542 - accuracy: 0.8311 - val_loss: 0.4444 - val_accuracy: 0.8371\n",
            "Epoch 2/5\n",
            "759/759 [==============================] - 3s 4ms/step - loss: 0.4542 - accuracy: 0.8311 - val_loss: 0.4446 - val_accuracy: 0.8371\n",
            "1\n",
            "train,test:  24276 4046\n",
            "Epoch 1/5\n",
            "759/759 [==============================] - 3s 4ms/step - loss: 0.4530 - accuracy: 0.8319 - val_loss: 0.4520 - val_accuracy: 0.8324\n",
            "Epoch 2/5\n",
            "759/759 [==============================] - 3s 4ms/step - loss: 0.4531 - accuracy: 0.8319 - val_loss: 0.4520 - val_accuracy: 0.8324\n",
            "train,test:  24276 4046\n",
            "Epoch 1/5\n",
            "759/759 [==============================] - 3s 4ms/step - loss: 0.4524 - accuracy: 0.8322 - val_loss: 0.4556 - val_accuracy: 0.8302\n",
            "Epoch 2/5\n",
            "759/759 [==============================] - 3s 4ms/step - loss: 0.4525 - accuracy: 0.8322 - val_loss: 0.4556 - val_accuracy: 0.8302\n",
            "train,test:  24276 4046\n",
            "Epoch 1/5\n",
            "759/759 [==============================] - 3s 4ms/step - loss: 0.4520 - accuracy: 0.8325 - val_loss: 0.4581 - val_accuracy: 0.8287\n",
            "Epoch 2/5\n",
            "759/759 [==============================] - 3s 4ms/step - loss: 0.4520 - accuracy: 0.8325 - val_loss: 0.4579 - val_accuracy: 0.8287\n",
            "train,test:  24276 4046\n",
            "Epoch 1/5\n",
            "759/759 [==============================] - 3s 4ms/step - loss: 0.4556 - accuracy: 0.8302 - val_loss: 0.4367 - val_accuracy: 0.8421\n",
            "Epoch 2/5\n",
            "759/759 [==============================] - 3s 4ms/step - loss: 0.4556 - accuracy: 0.8302 - val_loss: 0.4368 - val_accuracy: 0.8421\n",
            "train,test:  24276 4046\n",
            "Epoch 1/5\n",
            "759/759 [==============================] - 3s 4ms/step - loss: 0.4526 - accuracy: 0.8321 - val_loss: 0.4549 - val_accuracy: 0.8307\n",
            "Epoch 2/5\n",
            "759/759 [==============================] - 3s 4ms/step - loss: 0.4525 - accuracy: 0.8321 - val_loss: 0.4550 - val_accuracy: 0.8307\n",
            "train,test:  24276 4046\n",
            "Epoch 1/5\n",
            "759/759 [==============================] - 3s 4ms/step - loss: 0.4507 - accuracy: 0.8333 - val_loss: 0.4664 - val_accuracy: 0.8238\n",
            "Epoch 2/5\n",
            "759/759 [==============================] - 3s 4ms/step - loss: 0.4507 - accuracy: 0.8333 - val_loss: 0.4657 - val_accuracy: 0.8238\n",
            "train,test:  24276 4046\n",
            "Epoch 1/5\n",
            "759/759 [==============================] - 3s 4ms/step - loss: 0.4539 - accuracy: 0.8313 - val_loss: 0.4469 - val_accuracy: 0.8356\n",
            "Epoch 2/5\n",
            "759/759 [==============================] - 3s 4ms/step - loss: 0.4539 - accuracy: 0.8313 - val_loss: 0.4468 - val_accuracy: 0.8356\n",
            "2\n",
            "train,test:  24276 4046\n",
            "Epoch 1/5\n",
            "759/759 [==============================] - 3s 4ms/step - loss: 0.4532 - accuracy: 0.8317 - val_loss: 0.4508 - val_accuracy: 0.8332\n",
            "Epoch 2/5\n",
            "759/759 [==============================] - 3s 4ms/step - loss: 0.4533 - accuracy: 0.8317 - val_loss: 0.4508 - val_accuracy: 0.8332\n",
            "train,test:  24276 4046\n",
            "Epoch 1/5\n",
            "759/759 [==============================] - 3s 4ms/step - loss: 0.4519 - accuracy: 0.8326 - val_loss: 0.4592 - val_accuracy: 0.8280\n",
            "Epoch 2/5\n",
            "759/759 [==============================] - 3s 4ms/step - loss: 0.4518 - accuracy: 0.8326 - val_loss: 0.4591 - val_accuracy: 0.8280\n",
            "train,test:  24276 4046\n",
            "Epoch 1/5\n",
            "759/759 [==============================] - 3s 4ms/step - loss: 0.4503 - accuracy: 0.8336 - val_loss: 0.4687 - val_accuracy: 0.8220\n",
            "Epoch 2/5\n",
            "759/759 [==============================] - 3s 4ms/step - loss: 0.4503 - accuracy: 0.8336 - val_loss: 0.4686 - val_accuracy: 0.8220\n",
            "train,test:  24276 4046\n",
            "Epoch 1/5\n",
            "759/759 [==============================] - 3s 4ms/step - loss: 0.4549 - accuracy: 0.8307 - val_loss: 0.4409 - val_accuracy: 0.8393\n",
            "Epoch 2/5\n",
            "759/759 [==============================] - 3s 4ms/step - loss: 0.4549 - accuracy: 0.8307 - val_loss: 0.4408 - val_accuracy: 0.8393\n",
            "train,test:  24276 4046\n",
            "Epoch 1/5\n",
            "759/759 [==============================] - 3s 4ms/step - loss: 0.4511 - accuracy: 0.8330 - val_loss: 0.4642 - val_accuracy: 0.8253\n",
            "Epoch 2/5\n",
            "759/759 [==============================] - 3s 4ms/step - loss: 0.4511 - accuracy: 0.8330 - val_loss: 0.4635 - val_accuracy: 0.8253\n",
            "train,test:  24276 4046\n",
            "Epoch 1/5\n",
            "759/759 [==============================] - 3s 4ms/step - loss: 0.4536 - accuracy: 0.8315 - val_loss: 0.4485 - val_accuracy: 0.8347\n",
            "Epoch 2/5\n",
            "759/759 [==============================] - 3s 4ms/step - loss: 0.4537 - accuracy: 0.8315 - val_loss: 0.4485 - val_accuracy: 0.8347\n",
            "train,test:  24276 4046\n",
            "Epoch 1/5\n",
            "759/759 [==============================] - 3s 4ms/step - loss: 0.4553 - accuracy: 0.8304 - val_loss: 0.4384 - val_accuracy: 0.8411\n",
            "Epoch 2/5\n",
            "759/759 [==============================] - 3s 4ms/step - loss: 0.4553 - accuracy: 0.8304 - val_loss: 0.4384 - val_accuracy: 0.8411\n",
            "3\n",
            "train,test:  24276 4046\n",
            "Epoch 1/5\n",
            "759/759 [==============================] - 3s 4ms/step - loss: 0.4534 - accuracy: 0.8316 - val_loss: 0.4499 - val_accuracy: 0.8339\n",
            "Epoch 2/5\n",
            "759/759 [==============================] - 3s 4ms/step - loss: 0.4535 - accuracy: 0.8316 - val_loss: 0.4497 - val_accuracy: 0.8339\n",
            "train,test:  24276 4046\n",
            "Epoch 1/5\n",
            "759/759 [==============================] - 3s 4ms/step - loss: 0.4528 - accuracy: 0.8320 - val_loss: 0.4537 - val_accuracy: 0.8314\n",
            "Epoch 2/5\n",
            "759/759 [==============================] - 3s 4ms/step - loss: 0.4528 - accuracy: 0.8320 - val_loss: 0.4538 - val_accuracy: 0.8314\n",
            "train,test:  24276 4046\n",
            "Epoch 1/5\n",
            "359/759 [=============>................] - ETA: 1s - loss: 0.4545 - accuracy: 0.8309"
          ]
        }
      ]
    },
    {
      "cell_type": "code",
      "source": [
        "history.history"
      ],
      "metadata": {
        "id": "oheZ0-cdwWEt"
      },
      "execution_count": null,
      "outputs": []
    },
    {
      "cell_type": "code",
      "source": [
        "embedding_model.compile(\n",
        "    optimizer=tf.keras.optimizers.Adam(0.001),\n",
        "    loss=tfa.losses.TripletSemiHardLoss())\n",
        "model_checkpoint = tf.keras.callbacks.ModelCheckpoint(\n",
        "    filepath='/content/drive/MyDrive/robi-datathon-2-pre-assessment/model_weights/emb_weight_{epoch:04d}_{loss:.5f}.hdf5',\n",
        "    save_weights_only=True,\n",
        "    monitor='loss',\n",
        "    mode='auto',\n",
        "    save_best_only=True)\n",
        "\n",
        "history = embedding_model.fit(siamese_input_x,siamese_input_y,batch_size=700,epochs=1000,callbacks=[model_checkpoint])"
      ],
      "metadata": {
        "id": "zE9gIgc1WcwD"
      },
      "execution_count": null,
      "outputs": []
    },
    {
      "cell_type": "code",
      "source": [
        "# from google.colab import drive\n",
        "# drive.mount('/content/drive')"
      ],
      "metadata": {
        "id": "soQhiIvKjM-4"
      },
      "execution_count": null,
      "outputs": []
    }
  ]
}